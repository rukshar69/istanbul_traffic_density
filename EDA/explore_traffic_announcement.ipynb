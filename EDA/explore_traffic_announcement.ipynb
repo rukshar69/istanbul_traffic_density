{
 "cells": [
  {
   "cell_type": "code",
   "execution_count": 1,
   "metadata": {},
   "outputs": [],
   "source": [
    "import pandas as pd"
   ]
  },
  {
   "cell_type": "code",
   "execution_count": 4,
   "metadata": {},
   "outputs": [
    {
     "name": "stdout",
     "output_type": "stream",
     "text": [
      "(160665, 13)\n",
      "<class 'pandas.core.frame.DataFrame'>\n",
      "RangeIndex: 160665 entries, 0 to 160664\n",
      "Data columns (total 13 columns):\n",
      " #   Column                          Non-Null Count   Dtype  \n",
      "---  ------                          --------------   -----  \n",
      " 0   ANNOUNCEMENT_ID                 160665 non-null  int64  \n",
      " 1   ANNOUNCEMENT_STARTING_DATETIME  160665 non-null  object \n",
      " 2   ANNOUNCEMENT_ENDING_DATETIME    160665 non-null  object \n",
      " 3   ANNOUNCEMENT_TITLE              160660 non-null  object \n",
      " 4   ANNOUNCEMENT_TEXT               160663 non-null  object \n",
      " 5   ANNOUNCEMENT_TYPE               160665 non-null  int64  \n",
      " 6   ANNOUNCEMENT_TYPE_DESC          160665 non-null  object \n",
      " 7   INTERVENTION_DATETIME           160665 non-null  object \n",
      " 8   ACCIDENT_STATUS                 102987 non-null  float64\n",
      " 9   ACCIDENT_DESCRIPTION            160665 non-null  object \n",
      " 10  CLOSED_LANE                     113975 non-null  float64\n",
      " 11  LONGITUDE                       160629 non-null  float64\n",
      " 12  LATITUDE                        160629 non-null  float64\n",
      "dtypes: float64(4), int64(2), object(7)\n",
      "memory usage: 15.9+ MB\n",
      "None\n"
     ]
    }
   ],
   "source": [
    "df = pd.read_csv('data/cleaned_traffic_ancmnt_rev01.csv')\n",
    "print(df.shape)\n",
    "print(df.info())"
   ]
  },
  {
   "cell_type": "code",
   "execution_count": null,
   "metadata": {},
   "outputs": [],
   "source": []
  }
 ],
 "metadata": {
  "kernelspec": {
   "display_name": "py39",
   "language": "python",
   "name": "python3"
  },
  "language_info": {
   "codemirror_mode": {
    "name": "ipython",
    "version": 3
   },
   "file_extension": ".py",
   "mimetype": "text/x-python",
   "name": "python",
   "nbconvert_exporter": "python",
   "pygments_lexer": "ipython3",
   "version": "3.9.16"
  },
  "orig_nbformat": 4
 },
 "nbformat": 4,
 "nbformat_minor": 2
}
