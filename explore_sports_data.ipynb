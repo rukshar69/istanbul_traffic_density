{
 "cells": [
  {
   "cell_type": "code",
   "execution_count": 1,
   "metadata": {},
   "outputs": [],
   "source": [
    "import pandas as pd "
   ]
  },
  {
   "cell_type": "code",
   "execution_count": 3,
   "metadata": {},
   "outputs": [
    {
     "name": "stdout",
     "output_type": "stream",
     "text": [
      "(345, 5)\n",
      "<class 'pandas.core.frame.DataFrame'>\n",
      "RangeIndex: 345 entries, 0 to 344\n",
      "Data columns (total 5 columns):\n",
      " #   Column        Non-Null Count  Dtype  \n",
      "---  ------        --------------  -----  \n",
      " 0   date          345 non-null    object \n",
      " 1   stadium       345 non-null    object \n",
      " 2   stad_lat      345 non-null    float64\n",
      " 3   stad_long     345 non-null    float64\n",
      " 4   stad_address  345 non-null    object \n",
      "dtypes: float64(2), object(3)\n",
      "memory usage: 13.6+ KB\n",
      "None\n"
     ]
    }
   ],
   "source": [
    "sports_df = pd.read_csv('data/istanbul_football_superleague.csv')\n",
    "print(sports_df.shape)\n",
    "print(sports_df.info())"
   ]
  },
  {
   "cell_type": "code",
   "execution_count": 4,
   "metadata": {},
   "outputs": [
    {
     "data": {
      "text/plain": [
       "array(['RECEP TAYYİP ERDOĞAN STADYUMU - İSTANBUL',\n",
       "       'VODAFONE PARK - İSTANBUL', 'BAŞAKŞEHİR FATİH TERİM - İSTANBUL',\n",
       "       'ATATÜRK OLİMPİYAT - İSTANBUL', 'NECMİ KADIOĞLU - İSTANBUL',\n",
       "       'NEF STADYUMU - ISTANBUL', 'ÜMRANİYE STADYUMU - İSTANBUL'],\n",
       "      dtype=object)"
      ]
     },
     "execution_count": 4,
     "metadata": {},
     "output_type": "execute_result"
    }
   ],
   "source": [
    "stadium_names = sports_df['stadium'].unique()\n",
    "stadium_names"
   ]
  },
  {
   "cell_type": "code",
   "execution_count": 7,
   "metadata": {},
   "outputs": [
    {
     "data": {
      "text/html": [
       "<div>\n",
       "<style scoped>\n",
       "    .dataframe tbody tr th:only-of-type {\n",
       "        vertical-align: middle;\n",
       "    }\n",
       "\n",
       "    .dataframe tbody tr th {\n",
       "        vertical-align: top;\n",
       "    }\n",
       "\n",
       "    .dataframe thead th {\n",
       "        text-align: right;\n",
       "    }\n",
       "</style>\n",
       "<table border=\"1\" class=\"dataframe\">\n",
       "  <thead>\n",
       "    <tr style=\"text-align: right;\">\n",
       "      <th></th>\n",
       "      <th>stadium</th>\n",
       "      <th>count</th>\n",
       "    </tr>\n",
       "  </thead>\n",
       "  <tbody>\n",
       "    <tr>\n",
       "      <th>0</th>\n",
       "      <td>ATATÜRK OLİMPİYAT - İSTANBUL</td>\n",
       "      <td>52</td>\n",
       "    </tr>\n",
       "    <tr>\n",
       "      <th>1</th>\n",
       "      <td>BAŞAKŞEHİR FATİH TERİM - İSTANBUL</td>\n",
       "      <td>73</td>\n",
       "    </tr>\n",
       "    <tr>\n",
       "      <th>2</th>\n",
       "      <td>NECMİ KADIOĞLU - İSTANBUL</td>\n",
       "      <td>19</td>\n",
       "    </tr>\n",
       "    <tr>\n",
       "      <th>3</th>\n",
       "      <td>NEF STADYUMU - ISTANBUL</td>\n",
       "      <td>35</td>\n",
       "    </tr>\n",
       "    <tr>\n",
       "      <th>4</th>\n",
       "      <td>RECEP TAYYİP ERDOĞAN STADYUMU - İSTANBUL</td>\n",
       "      <td>77</td>\n",
       "    </tr>\n",
       "    <tr>\n",
       "      <th>5</th>\n",
       "      <td>VODAFONE PARK - İSTANBUL</td>\n",
       "      <td>76</td>\n",
       "    </tr>\n",
       "    <tr>\n",
       "      <th>6</th>\n",
       "      <td>ÜMRANİYE STADYUMU - İSTANBUL</td>\n",
       "      <td>13</td>\n",
       "    </tr>\n",
       "  </tbody>\n",
       "</table>\n",
       "</div>"
      ],
      "text/plain": [
       "                                    stadium  count\n",
       "0              ATATÜRK OLİMPİYAT - İSTANBUL     52\n",
       "1         BAŞAKŞEHİR FATİH TERİM - İSTANBUL     73\n",
       "2                NECMİ KADIOĞLU - İSTANBUL     19\n",
       "3                   NEF STADYUMU - ISTANBUL     35\n",
       "4  RECEP TAYYİP ERDOĞAN STADYUMU - İSTANBUL     77\n",
       "5                  VODAFONE PARK - İSTANBUL     76\n",
       "6              ÜMRANİYE STADYUMU - İSTANBUL     13"
      ]
     },
     "execution_count": 7,
     "metadata": {},
     "output_type": "execute_result"
    }
   ],
   "source": [
    "sports_per_stadium = sports_df.groupby('stadium').size()\n",
    "sports_per_stadium = pd.DataFrame(sports_per_stadium)\n",
    "sports_per_stadium.reset_index(inplace=True)\n",
    "sports_per_stadium.rename(columns={0:'count'}, inplace=True)\n",
    "sports_per_stadium"
   ]
  },
  {
   "cell_type": "code",
   "execution_count": 11,
   "metadata": {},
   "outputs": [
    {
     "name": "stderr",
     "output_type": "stream",
     "text": [
      "/tmp/ipykernel_8788/4133171826.py:2: SettingWithCopyWarning: \n",
      "A value is trying to be set on a copy of a slice from a DataFrame\n",
      "\n",
      "See the caveats in the documentation: https://pandas.pydata.org/pandas-docs/stable/user_guide/indexing.html#returning-a-view-versus-a-copy\n",
      "  unique_stadium_info.drop(columns=['date'], axis=1, inplace=True)\n"
     ]
    }
   ],
   "source": [
    "unique_stadium_info = sports_df.drop_duplicates(['stadium', 'stad_lat', 'stad_long', 'stad_address'])\n",
    "unique_stadium_info.drop(columns=['date'], axis=1, inplace=True)"
   ]
  },
  {
   "cell_type": "code",
   "execution_count": 14,
   "metadata": {},
   "outputs": [],
   "source": [
    "merged_df = pd.merge(unique_stadium_info, sports_per_stadium, on='stadium')"
   ]
  },
  {
   "cell_type": "code",
   "execution_count": 15,
   "metadata": {},
   "outputs": [
    {
     "data": {
      "text/html": [
       "<div>\n",
       "<style scoped>\n",
       "    .dataframe tbody tr th:only-of-type {\n",
       "        vertical-align: middle;\n",
       "    }\n",
       "\n",
       "    .dataframe tbody tr th {\n",
       "        vertical-align: top;\n",
       "    }\n",
       "\n",
       "    .dataframe thead th {\n",
       "        text-align: right;\n",
       "    }\n",
       "</style>\n",
       "<table border=\"1\" class=\"dataframe\">\n",
       "  <thead>\n",
       "    <tr style=\"text-align: right;\">\n",
       "      <th></th>\n",
       "      <th>stadium</th>\n",
       "      <th>stad_lat</th>\n",
       "      <th>stad_long</th>\n",
       "      <th>stad_address</th>\n",
       "      <th>count</th>\n",
       "    </tr>\n",
       "  </thead>\n",
       "  <tbody>\n",
       "    <tr>\n",
       "      <th>0</th>\n",
       "      <td>RECEP TAYYİP ERDOĞAN STADYUMU - İSTANBUL</td>\n",
       "      <td>41.032745</td>\n",
       "      <td>28.972365</td>\n",
       "      <td>Recep Tayyip Erdoğan Stadyumu, Yunus Kaptan So...</td>\n",
       "      <td>77</td>\n",
       "    </tr>\n",
       "    <tr>\n",
       "      <th>1</th>\n",
       "      <td>VODAFONE PARK - İSTANBUL</td>\n",
       "      <td>41.039444</td>\n",
       "      <td>28.994412</td>\n",
       "      <td>Vodafone Park, 1, Dolmabahçe Caddesi, Akaretle...</td>\n",
       "      <td>76</td>\n",
       "    </tr>\n",
       "    <tr>\n",
       "      <th>2</th>\n",
       "      <td>BAŞAKŞEHİR FATİH TERİM - İSTANBUL</td>\n",
       "      <td>41.122807</td>\n",
       "      <td>28.809385</td>\n",
       "      <td>İstanbul Başakşehir Fatih Terim Stadyumu, Ordu...</td>\n",
       "      <td>73</td>\n",
       "    </tr>\n",
       "    <tr>\n",
       "      <th>3</th>\n",
       "      <td>ATATÜRK OLİMPİYAT - İSTANBUL</td>\n",
       "      <td>41.074473</td>\n",
       "      <td>28.765661</td>\n",
       "      <td>Atatürk Olimpiyat Stadyumu, Olimpiyat Bulvarı,...</td>\n",
       "      <td>52</td>\n",
       "    </tr>\n",
       "    <tr>\n",
       "      <th>4</th>\n",
       "      <td>NECMİ KADIOĞLU - İSTANBUL</td>\n",
       "      <td>41.024317</td>\n",
       "      <td>28.697846</td>\n",
       "      <td>Necmi Kadıoğlu Stadı, Okurlar Caddesi, Yunus E...</td>\n",
       "      <td>19</td>\n",
       "    </tr>\n",
       "    <tr>\n",
       "      <th>5</th>\n",
       "      <td>NEF STADYUMU - ISTANBUL</td>\n",
       "      <td>41.103426</td>\n",
       "      <td>28.991038</td>\n",
       "      <td>Nef Stadyumu, Metin Oktay Caddesi, Huzur Mahal...</td>\n",
       "      <td>35</td>\n",
       "    </tr>\n",
       "    <tr>\n",
       "      <th>6</th>\n",
       "      <td>ÜMRANİYE STADYUMU - İSTANBUL</td>\n",
       "      <td>41.058762</td>\n",
       "      <td>29.109409</td>\n",
       "      <td>Ümraniye Şehir Stadyumu, Semerkant Sokağı, Hek...</td>\n",
       "      <td>13</td>\n",
       "    </tr>\n",
       "  </tbody>\n",
       "</table>\n",
       "</div>"
      ],
      "text/plain": [
       "                                    stadium   stad_lat  stad_long  \\\n",
       "0  RECEP TAYYİP ERDOĞAN STADYUMU - İSTANBUL  41.032745  28.972365   \n",
       "1                  VODAFONE PARK - İSTANBUL  41.039444  28.994412   \n",
       "2         BAŞAKŞEHİR FATİH TERİM - İSTANBUL  41.122807  28.809385   \n",
       "3              ATATÜRK OLİMPİYAT - İSTANBUL  41.074473  28.765661   \n",
       "4                NECMİ KADIOĞLU - İSTANBUL  41.024317  28.697846   \n",
       "5                   NEF STADYUMU - ISTANBUL  41.103426  28.991038   \n",
       "6              ÜMRANİYE STADYUMU - İSTANBUL  41.058762  29.109409   \n",
       "\n",
       "                                        stad_address  count  \n",
       "0  Recep Tayyip Erdoğan Stadyumu, Yunus Kaptan So...     77  \n",
       "1  Vodafone Park, 1, Dolmabahçe Caddesi, Akaretle...     76  \n",
       "2  İstanbul Başakşehir Fatih Terim Stadyumu, Ordu...     73  \n",
       "3  Atatürk Olimpiyat Stadyumu, Olimpiyat Bulvarı,...     52  \n",
       "4  Necmi Kadıoğlu Stadı, Okurlar Caddesi, Yunus E...     19  \n",
       "5  Nef Stadyumu, Metin Oktay Caddesi, Huzur Mahal...     35  \n",
       "6  Ümraniye Şehir Stadyumu, Semerkant Sokağı, Hek...     13  "
      ]
     },
     "execution_count": 15,
     "metadata": {},
     "output_type": "execute_result"
    }
   ],
   "source": [
    "merged_df"
   ]
  },
  {
   "cell_type": "code",
   "execution_count": 16,
   "metadata": {},
   "outputs": [],
   "source": [
    "merged_df.to_csv('data/sportevents_per_stadium.csv',index=False)"
   ]
  }
 ],
 "metadata": {
  "kernelspec": {
   "display_name": "base",
   "language": "python",
   "name": "python3"
  },
  "language_info": {
   "codemirror_mode": {
    "name": "ipython",
    "version": 3
   },
   "file_extension": ".py",
   "mimetype": "text/x-python",
   "name": "python",
   "nbconvert_exporter": "python",
   "pygments_lexer": "ipython3",
   "version": "3.9.13"
  },
  "orig_nbformat": 4
 },
 "nbformat": 4,
 "nbformat_minor": 2
}
